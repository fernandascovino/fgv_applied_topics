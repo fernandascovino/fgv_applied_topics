{
 "cells": [
  {
   "cell_type": "markdown",
   "metadata": {
    "toc": true
   },
   "source": [
    "<h1>Table of Contents<span class=\"tocSkip\"></span></h1>\n",
    "<div class=\"toc\"><ul class=\"toc-item\"><li><span><a href=\"#Lembrando:-Condições-necessárias-de-otimalidade\" data-toc-modified-id=\"Lembrando:-Condições-necessárias-de-otimalidade-1\"><span class=\"toc-item-num\">1&nbsp;&nbsp;</span>Lembrando: Condições necessárias de otimalidade</a></span></li><li><span><a href=\"#Exemplo-(exercício-6---p.-27)\" data-toc-modified-id=\"Exemplo-(exercício-6---p.-27)-2\"><span class=\"toc-item-num\">2&nbsp;&nbsp;</span>Exemplo (exercício 6 - p. 27)</a></span></li><li><span><a href=\"#Exercício-(exemplo-8.1---p.-28)\" data-toc-modified-id=\"Exercício-(exemplo-8.1---p.-28)-3\"><span class=\"toc-item-num\">3&nbsp;&nbsp;</span>Exercício (exemplo 8.1 - p. 28)</a></span></li></ul></div>"
   ]
  },
  {
   "cell_type": "markdown",
   "metadata": {},
   "source": [
    "# Trabalho computacional\n",
    "\n",
    "Notas da prof. Soledad, do minicurso de \"Controle ótimo com aplicações à Biologia\" - *ICTP LATIN AMERICAN SCHOOLIN APPLIED MATHEMATICS*.\n",
    "\n",
    "- Notas do livro:\n",
    "\n",
    "*[Lenhart and Workman, 2007] Lenhart, S. and Workman, J. T. (2007). Optimal control applied to biological models. Chapman and Hall/CRC.*\n",
    "\n",
    "- Importando pacotes"
   ]
  },
  {
   "cell_type": "code",
   "execution_count": 1,
   "metadata": {},
   "outputs": [
    {
     "data": {
      "text/html": [
       "        <script type=\"text/javascript\">\n",
       "        window.PlotlyConfig = {MathJaxConfig: 'local'};\n",
       "        if (window.MathJax) {MathJax.Hub.Config({SVG: {font: \"STIX-Web\"}});}\n",
       "        if (typeof require !== 'undefined') {\n",
       "        require.undef(\"plotly\");\n",
       "        requirejs.config({\n",
       "            paths: {\n",
       "                'plotly': ['https://cdn.plot.ly/plotly-latest.min']\n",
       "            }\n",
       "        });\n",
       "        require(['plotly'], function(Plotly) {\n",
       "            window._Plotly = Plotly;\n",
       "        });\n",
       "        }\n",
       "        </script>\n",
       "        "
      ]
     },
     "metadata": {},
     "output_type": "display_data"
    }
   ],
   "source": [
    "import numpy as np\n",
    "import pandas as pd\n",
    "import cufflinks as cf\n",
    "import plotly.offline\n",
    "cf.go_offline()\n",
    "cf.set_config_file(offline=False, world_readable=True)"
   ]
  },
  {
   "cell_type": "markdown",
   "metadata": {},
   "source": [
    "## Lembrando: Condições necessárias de otimalidade\n",
    "\n",
    "Se $(u*, x*)$ é ótimo, então existe $\\lambda : [t_0 , T] \\rightarrow R^n$ tal que: \n",
    "\n",
    "$$\n",
    "\\begin{cases}\n",
    "\\lambda '(t) & = & -H_x(t, x^*(t), u^*(t), \\lambda(t)) \\\\\n",
    "\\lambda (T) & = & 0 \\\\\n",
    "H_u(t, x^*(t), u^*(t), \\lambda(t)) & = & 0\n",
    "\\end{cases}\n",
    "$$"
   ]
  },
  {
   "cell_type": "markdown",
   "metadata": {},
   "source": [
    "## Exemplo (exercício 6 - p. 27)\n",
    "\n",
    "Queremos resolver\n",
    "\n",
    "$$\n",
    "min \\frac{1}{2} \\int_0 ^1 (3x^2+u^2) dt \\\\\n",
    "sa. x'= x + u, x(1) = 0\n",
    "$$\n",
    "\n",
    "- Qual a ideia? Resolver a equação $H_u =  0$ apra achar uma expressão de $u$ (variável algébrica) em função de $x$ e $\\lambda$ (variáveis diferenciáveis nas equações)\n",
    "\n",
    "\n",
    "Sabemos que\n",
    "\n",
    "$$H(x,u, \\lambda) := L + \\lambda f$$\n",
    "\n",
    "No exercício, temos:\n",
    "\n",
    "$$H= \\frac{3}{2}x^2+ \\frac{1}{2}u^2 +  \\lambda(x + u)$$\n",
    "\n",
    "Tomando $H_u$:\n",
    "\n",
    "$$ H_u = u + \\lambda =  0 \\rightarrow  u = - \\lambda (i)$$\n",
    "\n",
    "Vamos usar $(i)$ em $\\lambda'$ para obter a expressão sem $u$:\n",
    "\n",
    "$$ \\lambda' = -H_x = -3x + \\lambda =  0 (ii)$$\n",
    "\n",
    "Assim, obtemos o sistema:\n",
    "\n",
    "$$\n",
    "\\begin{cases}\n",
    "x'^* &=&  x - \\lambda \\\\\n",
    "\\lambda'^* &=&  -3x + \\lambda\\\\\n",
    "\\end{cases}\n",
    "$$\n",
    "\n",
    "Que pode ser lido de forma matricial: $[x' \\lambda'] = [1 -1; -3 1][x \\lambda]$, e resolvido analiticamente. Para isso, achamos os autovalores e autovetores da matriz e, derivando, obtemos suas expressões.\n",
    "\n",
    "OBS1: dado que os dois autovetores formam uma base em $R^2$, a solução é uma combinação linear deles.\n",
    "\n",
    "OBS2: como é um problema linear, conseguimos resolver de forma analítica, mas vale notar que **não é um problema de condições de contorno**"
   ]
  },
  {
   "cell_type": "markdown",
   "metadata": {},
   "source": [
    "## Exercício (exemplo 8.1 - p. 28)\n",
    "\n",
    "$$\n",
    "min \\frac{1}{2} \\int _0 ^1 (Ax^2 + Bu^2) dt \\\\\n",
    "sa. x'= -\\frac{x^2}{2} + Cu \\\\\n",
    "x(0) = x_0 > -2\n",
    "$$\n",
    "\n",
    "Resolvendo $H_u$ e substituindo $u$ em $x'$, com as condições de otimalidade, temos o sistema:\n",
    "\n",
    "$$\n",
    "\\begin{cases}\n",
    "x'^*(t) & = & -\\frac{x^2}{2} +\\frac{C^2 \\lambda}{2B} \\\\\n",
    "\\lambda'^*(t) & = & -A + \\lambda x^* \\\\\n",
    "x^*(0) &=& x_0 > -2 \\\\\n",
    "\\lambda(1) &=& 0\n",
    "\\end{cases}\n",
    "$$\n",
    "\n",
    "Vamos resolvê-lo numericamente, em 4 passos:\n",
    "\n",
    "0. Inicializamos o algoritmo com $u = 0$ e $\\delta = 0.1$ (tolerância)\n",
    "1. Integramos numericamente $x'^*(t)$ de $t_0 \\rightarrow T$ para obter $x$\n",
    "2. Integramos numericamente $\\lambda'^*(t)$ de $T \\rightarrow t_0$ para obter $\\lambda$\n",
    "3. Atualiza $u$\n"
   ]
  },
  {
   "cell_type": "code",
   "execution_count": 2,
   "metadata": {},
   "outputs": [],
   "source": [
    "# Método para integração numérica em (1) e (2)\n",
    "def euler_1a_ordem(func, y_0, vt):\n",
    "    \"\"\"\n",
    "    Resolve o problema de valor inicial com o método de Euler de 1ª ordem com h = y_n - y_(n-1).\n",
    "    \n",
    "    Parameters\n",
    "    ----------\n",
    "    func: função lambda(ty) de y' do problema\n",
    "    y0: valor inicial do problema\n",
    "    vt: vetor que contém os valores da variável\n",
    "    \n",
    "    Returns\n",
    "    -------\n",
    "    list: estimação de y nos valores em vt\n",
    "    \"\"\"\n",
    "\n",
    "    t_ant = vt[0]\n",
    "    y_ant = y_0\n",
    "    \n",
    "    est = [y_ant]\n",
    "    for t in vt[1:]:\n",
    "\n",
    "        h = t - t_ant\n",
    "        \n",
    "        # passo de Taylor\n",
    "        y = y_ant + func(y_ant, t_ant)*h\n",
    "        est.append(y)\n",
    "        \n",
    "        # atualização dos termos\n",
    "        y_ant = y\n",
    "        t_ant = t\n",
    "    \n",
    "    return est"
   ]
  },
  {
   "cell_type": "markdown",
   "metadata": {},
   "source": [
    "* Testando método de Euler (Exercício 2 - p. 23)"
   ]
  },
  {
   "cell_type": "code",
   "execution_count": 3,
   "metadata": {},
   "outputs": [
    {
     "data": {
      "application/vnd.plotly.v1+json": {
       "config": {
        "plotlyServerURL": "https://plot.ly"
       },
       "data": [
        {
         "line": {
          "color": "rgba(255, 153, 51, 1.0)",
          "dash": "solid",
          "shape": "linear",
          "width": 1.3
         },
         "mode": "lines",
         "name": "None",
         "text": "",
         "type": "scatter",
         "uid": "4fc5a0ee-02ca-4b90-87b5-0def5fe5a6db",
         "x": [
          0,
          1,
          2,
          3,
          4,
          5,
          6,
          7,
          8,
          9,
          10,
          11,
          12,
          13,
          14,
          15,
          16,
          17,
          18,
          19,
          20,
          21,
          22,
          23,
          24,
          25,
          26,
          27,
          28,
          29,
          30,
          31,
          32,
          33,
          34,
          35,
          36,
          37,
          38,
          39,
          40,
          41,
          42,
          43,
          44,
          45,
          46,
          47,
          48,
          49
         ],
         "y": [
          2,
          2.2742155848350634,
          2.579227169234211,
          2.9187575616027956,
          3.2970140177345924,
          3.718756158451088,
          4.189374046586653,
          4.714978033678664,
          5.30250225545982,
          5.959823970970873,
          6.695901311385458,
          7.520932441658413,
          8.446539653014069,
          9.48598251154888,
          10.654404905093157,
          11.969121677568937,
          13.449951542028955,
          15.119604149834478,
          17.00413059931896,
          19.13344833508922,
          21.541953369588114,
          24.269235112630337,
          27.360911895591535,
          30.86960861293574,
          34.85610188098157,
          39.39066286023577,
          44.55463355772504,
          50.442279206113184,
          57.16296743259055,
          64.84373465558933,
          73.632311812072,
          83.70069552355338,
          95.24936764200932,
          108.51228636896808,
          123.76279653182529,
          141.32063600673825,
          161.56025076473932,
          184.9206738891726,
          211.91727575819405,
          243.1557553494377,
          279.34881868298515,
          321.3360826858983,
          370.1078548074467,
          426.83357492063925,
          492.895871795983,
          569.9313883469704,
          659.879776072301,
          765.0425596976477,
          888.1539403346158,
          1032.466054817788
         ]
        }
       ],
       "layout": {
        "legend": {
         "bgcolor": "#F5F6F9",
         "font": {
          "color": "#4D5663"
         }
        },
        "paper_bgcolor": "#F5F6F9",
        "plot_bgcolor": "#F5F6F9",
        "title": {
         "font": {
          "color": "#4D5663"
         },
         "text": "Exercício 2 - Método de Euler<br>f'(x) = x + e^t + tx"
        },
        "xaxis": {
         "gridcolor": "#E1E5ED",
         "showgrid": true,
         "tickfont": {
          "color": "#4D5663"
         },
         "title": {
          "font": {
           "color": "#4D5663"
          },
          "text": ""
         },
         "zerolinecolor": "#E1E5ED"
        },
        "yaxis": {
         "gridcolor": "#E1E5ED",
         "showgrid": true,
         "tickfont": {
          "color": "#4D5663"
         },
         "title": {
          "font": {
           "color": "#4D5663"
          },
          "text": ""
         },
         "zerolinecolor": "#E1E5ED"
        }
       }
      },
      "text/html": [
       "<div>\n",
       "        \n",
       "        \n",
       "            <div id=\"9e7f4af9-6af5-4115-8bf0-20dfc691a532\" class=\"plotly-graph-div\" style=\"height:525px; width:100%;\"></div>\n",
       "            <script type=\"text/javascript\">\n",
       "                require([\"plotly\"], function(Plotly) {\n",
       "                    window.PLOTLYENV=window.PLOTLYENV || {};\n",
       "                    window.PLOTLYENV.BASE_URL='https://plot.ly';\n",
       "                    \n",
       "                if (document.getElementById(\"9e7f4af9-6af5-4115-8bf0-20dfc691a532\")) {\n",
       "                    Plotly.newPlot(\n",
       "                        '9e7f4af9-6af5-4115-8bf0-20dfc691a532',\n",
       "                        [{\"line\": {\"color\": \"rgba(255, 153, 51, 1.0)\", \"dash\": \"solid\", \"shape\": \"linear\", \"width\": 1.3}, \"mode\": \"lines\", \"name\": \"None\", \"text\": \"\", \"type\": \"scatter\", \"uid\": \"4fc5a0ee-02ca-4b90-87b5-0def5fe5a6db\", \"x\": [0, 1, 2, 3, 4, 5, 6, 7, 8, 9, 10, 11, 12, 13, 14, 15, 16, 17, 18, 19, 20, 21, 22, 23, 24, 25, 26, 27, 28, 29, 30, 31, 32, 33, 34, 35, 36, 37, 38, 39, 40, 41, 42, 43, 44, 45, 46, 47, 48, 49], \"y\": [2.0, 2.2742155848350634, 2.579227169234211, 2.9187575616027956, 3.2970140177345924, 3.718756158451088, 4.189374046586653, 4.714978033678664, 5.30250225545982, 5.959823970970873, 6.695901311385458, 7.520932441658413, 8.446539653014069, 9.48598251154888, 10.654404905093157, 11.969121677568937, 13.449951542028955, 15.119604149834478, 17.00413059931896, 19.13344833508922, 21.541953369588114, 24.269235112630337, 27.360911895591535, 30.86960861293574, 34.85610188098157, 39.39066286023577, 44.55463355772504, 50.442279206113184, 57.16296743259055, 64.84373465558933, 73.632311812072, 83.70069552355338, 95.24936764200932, 108.51228636896808, 123.76279653182529, 141.32063600673825, 161.56025076473932, 184.9206738891726, 211.91727575819405, 243.1557553494377, 279.34881868298515, 321.3360826858983, 370.1078548074467, 426.83357492063925, 492.895871795983, 569.9313883469704, 659.879776072301, 765.0425596976477, 888.1539403346158, 1032.466054817788]}],\n",
       "                        {\"legend\": {\"bgcolor\": \"#F5F6F9\", \"font\": {\"color\": \"#4D5663\"}}, \"paper_bgcolor\": \"#F5F6F9\", \"plot_bgcolor\": \"#F5F6F9\", \"title\": {\"font\": {\"color\": \"#4D5663\"}, \"text\": \"Exerc\\u00edcio 2 - M\\u00e9todo de Euler<br>f'(x) = x + e^t + tx\"}, \"xaxis\": {\"gridcolor\": \"#E1E5ED\", \"showgrid\": true, \"tickfont\": {\"color\": \"#4D5663\"}, \"title\": {\"font\": {\"color\": \"#4D5663\"}, \"text\": \"\"}, \"zerolinecolor\": \"#E1E5ED\"}, \"yaxis\": {\"gridcolor\": \"#E1E5ED\", \"showgrid\": true, \"tickfont\": {\"color\": \"#4D5663\"}, \"title\": {\"font\": {\"color\": \"#4D5663\"}, \"text\": \"\"}, \"zerolinecolor\": \"#E1E5ED\"}},\n",
       "                        {\"plotlyServerURL\": \"https://plot.ly\", \"responsive\": true}\n",
       "                    ).then(function(){\n",
       "                            \n",
       "var gd = document.getElementById('9e7f4af9-6af5-4115-8bf0-20dfc691a532');\n",
       "var x = new MutationObserver(function (mutations, observer) {{\n",
       "        var display = window.getComputedStyle(gd).display;\n",
       "        if (!display || display === 'none') {{\n",
       "            console.log([gd, 'removed!']);\n",
       "            Plotly.purge(gd);\n",
       "            observer.disconnect();\n",
       "        }}\n",
       "}});\n",
       "\n",
       "// Listen for the removal of the full notebook cells\n",
       "var notebookContainer = gd.closest('#notebook-container');\n",
       "if (notebookContainer) {{\n",
       "    x.observe(notebookContainer, {childList: true});\n",
       "}}\n",
       "\n",
       "// Listen for the clearing of the current output cell\n",
       "var outputEl = gd.closest('.output');\n",
       "if (outputEl) {{\n",
       "    x.observe(outputEl, {childList: true});\n",
       "}}\n",
       "\n",
       "                        })\n",
       "                };\n",
       "                });\n",
       "            </script>\n",
       "        </div>"
      ]
     },
     "metadata": {},
     "output_type": "display_data"
    }
   ],
   "source": [
    "t_T = 3\n",
    "t_0 = 1\n",
    "x_0 = 2\n",
    "func = lambda x, t: x + (np.e**t) + (t*x)\n",
    "\n",
    "vt = np.linspace(t_0, t_T, 50) # 50 pontos\n",
    "fig = pd.Series(euler_1a_ordem(func, x_0, vt)).iplot(asFigure=True, title='Exercício 2 - Método de Euler<br>f\\'(x) = x + e^t + tx')\n",
    "fig.show()"
   ]
  },
  {
   "cell_type": "code",
   "execution_count": 4,
   "metadata": {},
   "outputs": [
    {
     "data": {
      "text/plain": [
       "'graphs/ex_2_euler.html'"
      ]
     },
     "execution_count": 4,
     "metadata": {},
     "output_type": "execute_result"
    }
   ],
   "source": [
    "plotly.offline.plot(fig, filename='graphs/ex_2_euler.html', auto_open=False)"
   ]
  },
  {
   "cell_type": "markdown",
   "metadata": {},
   "source": [
    "* Implementação do algoritmo"
   ]
  },
  {
   "cell_type": "code",
   "execution_count": 5,
   "metadata": {},
   "outputs": [],
   "source": [
    "def exercicio_8_1(A, B, C, n=50):\n",
    "    \"\"\"\n",
    "    Calcula a solução para o problema (P) descrito acima.\n",
    "    \"\"\"\n",
    "    \n",
    "    # Definições do problema\n",
    "    L = lambda x, u: A*(x**2) + B*(u**2)\n",
    "    l_old = 0 # l(1) = 0\n",
    "    vt = np.linspace(0, 1, n) # t = [0,1]\n",
    "    \n",
    "    # Passo 0: Iniciando o algoritmo\n",
    "    u_old = 0\n",
    "    e = 0.1\n",
    "    x_old = -2 # o que entra aqui?\n",
    "    \n",
    "    err = 1\n",
    "    U = lambda l: C*l/2*B\n",
    "    \n",
    "    while err > 0.1:\n",
    "        \n",
    "        # Passo 1: Integrando x' (t_0, t_T) para obter x\n",
    "        x_der = lambda x : -(x**2)/2 + C*u_old\n",
    "        x = sum(euler_1a_ordem(x_der, x_old, vt_1))\n",
    "\n",
    "        # Passo 2: Integrando l' (t_T, t_0) para obter l\n",
    "        l_der = lambda l : A - l*x_old\n",
    "        l = sum(euler_1a_ordem(l_der, l_old, vt_2))  \n",
    "\n",
    "        # Passo 3: atualização do erro\n",
    "        u = U(l)\n",
    "        \n",
    "        err = max(np.norm(u - u_old)/np.norm(u), \n",
    "                  np.norm(x - x_old)/np.norm(x), \n",
    "                  np.norm(l - l_old)/np.norm(l))\n",
    "        \n",
    "        # Atualização das variáveis do passo seguinte\n",
    "        x_old = x\n",
    "        l_old = l\n",
    "        u_old = u\n",
    "        \n",
    "    return L(x, u)"
   ]
  },
  {
   "cell_type": "code",
   "execution_count": null,
   "metadata": {},
   "outputs": [],
   "source": []
  }
 ],
 "metadata": {
  "kernelspec": {
   "display_name": "Python 3",
   "language": "python",
   "name": "python3"
  },
  "language_info": {
   "codemirror_mode": {
    "name": "ipython",
    "version": 3
   },
   "file_extension": ".py",
   "mimetype": "text/x-python",
   "name": "python",
   "nbconvert_exporter": "python",
   "pygments_lexer": "ipython3",
   "version": "3.7.4"
  },
  "toc": {
   "base_numbering": 1,
   "nav_menu": {},
   "number_sections": true,
   "sideBar": true,
   "skip_h1_title": true,
   "title_cell": "Table of Contents",
   "title_sidebar": "Contents",
   "toc_cell": true,
   "toc_position": {},
   "toc_section_display": true,
   "toc_window_display": false
  }
 },
 "nbformat": 4,
 "nbformat_minor": 2
}
